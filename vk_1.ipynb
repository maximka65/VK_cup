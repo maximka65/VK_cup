{
 "cells": [
  {
   "cell_type": "code",
   "execution_count": 1,
   "id": "c919f392",
   "metadata": {},
   "outputs": [],
   "source": [
    "import pandas as pd\n",
    "import numpy as np"
   ]
  },
  {
   "cell_type": "code",
   "execution_count": null,
   "id": "f60e901c",
   "metadata": {},
   "outputs": [],
   "source": []
  },
  {
   "cell_type": "code",
   "execution_count": 597,
   "id": "0c6294ef",
   "metadata": {},
   "outputs": [],
   "source": [
    "train = pd.read_csv('data/train.csv')\n",
    "test = pd.read_csv('data/test.csv')"
   ]
  },
  {
   "cell_type": "code",
   "execution_count": 155,
   "id": "8cd32aea",
   "metadata": {},
   "outputs": [
    {
     "data": {
      "text/html": [
       "<div>\n",
       "<style scoped>\n",
       "    .dataframe tbody tr th:only-of-type {\n",
       "        vertical-align: middle;\n",
       "    }\n",
       "\n",
       "    .dataframe tbody tr th {\n",
       "        vertical-align: top;\n",
       "    }\n",
       "\n",
       "    .dataframe thead th {\n",
       "        text-align: right;\n",
       "    }\n",
       "</style>\n",
       "<table border=\"1\" class=\"dataframe\">\n",
       "  <thead>\n",
       "    <tr style=\"text-align: right;\">\n",
       "      <th></th>\n",
       "      <th>oid</th>\n",
       "      <th>text</th>\n",
       "    </tr>\n",
       "  </thead>\n",
       "  <tbody>\n",
       "    <tr>\n",
       "      <th>0</th>\n",
       "      <td>749208109</td>\n",
       "      <td>СПОЧНО СООБЩЕСТВО ПРОДАЕТСЯ ЗА 1300Р ЗА ПОКУПК...</td>\n",
       "    </tr>\n",
       "    <tr>\n",
       "      <th>1</th>\n",
       "      <td>452466036</td>\n",
       "      <td>Естественное восстановление после тяжелой трен...</td>\n",
       "    </tr>\n",
       "    <tr>\n",
       "      <th>2</th>\n",
       "      <td>161038103</td>\n",
       "      <td>Тема нарядов продолжается Одна из британских ж...</td>\n",
       "    </tr>\n",
       "    <tr>\n",
       "      <th>3</th>\n",
       "      <td>663621910</td>\n",
       "      <td>Привет Избранный. Ты спрашиваешь себя ЧТО здес...</td>\n",
       "    </tr>\n",
       "    <tr>\n",
       "      <th>4</th>\n",
       "      <td>566255305</td>\n",
       "      <td>КОРОЛЬ ПЯТИСОТНИКОВ В ДЕЛЕ Андрей Рублев успеш...</td>\n",
       "    </tr>\n",
       "    <tr>\n",
       "      <th>...</th>\n",
       "      <td>...</td>\n",
       "      <td>...</td>\n",
       "    </tr>\n",
       "    <tr>\n",
       "      <th>26255</th>\n",
       "      <td>169728316</td>\n",
       "      <td>Выиграй коллекционный пазл по Wortokenoid of W...</td>\n",
       "    </tr>\n",
       "    <tr>\n",
       "      <th>26256</th>\n",
       "      <td>279369911</td>\n",
       "      <td>Волейбол от первого лица Егора Пупынина переко...</td>\n",
       "    </tr>\n",
       "    <tr>\n",
       "      <th>26257</th>\n",
       "      <td>600699419</td>\n",
       "      <td>Вы были когда нибудь на свидании где вам задав...</td>\n",
       "    </tr>\n",
       "    <tr>\n",
       "      <th>26258</th>\n",
       "      <td>560223506</td>\n",
       "      <td>ТОП 20 самых эффективных общефизических упражн...</td>\n",
       "    </tr>\n",
       "    <tr>\n",
       "      <th>26259</th>\n",
       "      <td>724673712</td>\n",
       "      <td>Присылайте ваши беговые фото в комментарии к э...</td>\n",
       "    </tr>\n",
       "  </tbody>\n",
       "</table>\n",
       "<p>26260 rows × 2 columns</p>\n",
       "</div>"
      ],
      "text/plain": [
       "             oid                                               text\n",
       "0      749208109  СПОЧНО СООБЩЕСТВО ПРОДАЕТСЯ ЗА 1300Р ЗА ПОКУПК...\n",
       "1      452466036  Естественное восстановление после тяжелой трен...\n",
       "2      161038103  Тема нарядов продолжается Одна из британских ж...\n",
       "3      663621910  Привет Избранный. Ты спрашиваешь себя ЧТО здес...\n",
       "4      566255305  КОРОЛЬ ПЯТИСОТНИКОВ В ДЕЛЕ Андрей Рублев успеш...\n",
       "...          ...                                                ...\n",
       "26255  169728316  Выиграй коллекционный пазл по Wortokenoid of W...\n",
       "26256  279369911  Волейбол от первого лица Егора Пупынина переко...\n",
       "26257  600699419  Вы были когда нибудь на свидании где вам задав...\n",
       "26258  560223506  ТОП 20 самых эффективных общефизических упражн...\n",
       "26259  724673712  Присылайте ваши беговые фото в комментарии к э...\n",
       "\n",
       "[26260 rows x 2 columns]"
      ]
     },
     "execution_count": 155,
     "metadata": {},
     "output_type": "execute_result"
    }
   ],
   "source": [
    "test"
   ]
  },
  {
   "cell_type": "code",
   "execution_count": 116,
   "id": "585cc4ff",
   "metadata": {},
   "outputs": [
    {
     "data": {
      "text/html": [
       "<div>\n",
       "<style scoped>\n",
       "    .dataframe tbody tr th:only-of-type {\n",
       "        vertical-align: middle;\n",
       "    }\n",
       "\n",
       "    .dataframe tbody tr th {\n",
       "        vertical-align: top;\n",
       "    }\n",
       "\n",
       "    .dataframe thead th {\n",
       "        text-align: right;\n",
       "    }\n",
       "</style>\n",
       "<table border=\"1\" class=\"dataframe\">\n",
       "  <thead>\n",
       "    <tr style=\"text-align: right;\">\n",
       "      <th></th>\n",
       "      <th>oid</th>\n",
       "      <th>category</th>\n",
       "      <th>text</th>\n",
       "    </tr>\n",
       "  </thead>\n",
       "  <tbody>\n",
       "    <tr>\n",
       "      <th>0</th>\n",
       "      <td>365271984</td>\n",
       "      <td>winter_sport</td>\n",
       "      <td>Волшебные фото Виктория Поплавская ЕвгенияМедв...</td>\n",
       "    </tr>\n",
       "    <tr>\n",
       "      <th>1</th>\n",
       "      <td>503385563</td>\n",
       "      <td>extreme</td>\n",
       "      <td>Возвращение в подземелье Треша 33 Эйфория тупо...</td>\n",
       "    </tr>\n",
       "    <tr>\n",
       "      <th>2</th>\n",
       "      <td>146016084</td>\n",
       "      <td>football</td>\n",
       "      <td>Лучшие чешские вратари – Доминик Доминатор Гаш...</td>\n",
       "    </tr>\n",
       "    <tr>\n",
       "      <th>3</th>\n",
       "      <td>933865449</td>\n",
       "      <td>boardgames</td>\n",
       "      <td>Rtokenoid Warhammer40k валрак решил нас подкор...</td>\n",
       "    </tr>\n",
       "    <tr>\n",
       "      <th>4</th>\n",
       "      <td>713550145</td>\n",
       "      <td>hockey</td>\n",
       "      <td>Шестеркин затаскивает Рейнджерс в финал Восточ...</td>\n",
       "    </tr>\n",
       "    <tr>\n",
       "      <th>...</th>\n",
       "      <td>...</td>\n",
       "      <td>...</td>\n",
       "      <td>...</td>\n",
       "    </tr>\n",
       "    <tr>\n",
       "      <th>38735</th>\n",
       "      <td>910636962</td>\n",
       "      <td>autosport</td>\n",
       "      <td>8 битная буря снова накрыла пикселями автомоби...</td>\n",
       "    </tr>\n",
       "    <tr>\n",
       "      <th>38736</th>\n",
       "      <td>669736851</td>\n",
       "      <td>autosport</td>\n",
       "      <td>Ира Сидоркова объясняет как сказалась на ее ма...</td>\n",
       "    </tr>\n",
       "    <tr>\n",
       "      <th>38737</th>\n",
       "      <td>558919241</td>\n",
       "      <td>tennis</td>\n",
       "      <td>24 я ракетка мира хорват Марин Чилич обыграл и...</td>\n",
       "    </tr>\n",
       "    <tr>\n",
       "      <th>38738</th>\n",
       "      <td>776944963</td>\n",
       "      <td>volleyball</td>\n",
       "      <td>Стал известен календарь мужской сборной России...</td>\n",
       "    </tr>\n",
       "    <tr>\n",
       "      <th>38739</th>\n",
       "      <td>577334983</td>\n",
       "      <td>hockey</td>\n",
       "      <td>Первенство ВХЛ. Первый этап Динамо Алтай Бн ЦС...</td>\n",
       "    </tr>\n",
       "  </tbody>\n",
       "</table>\n",
       "<p>38740 rows × 3 columns</p>\n",
       "</div>"
      ],
      "text/plain": [
       "             oid      category  \\\n",
       "0      365271984  winter_sport   \n",
       "1      503385563       extreme   \n",
       "2      146016084      football   \n",
       "3      933865449    boardgames   \n",
       "4      713550145        hockey   \n",
       "...          ...           ...   \n",
       "38735  910636962     autosport   \n",
       "38736  669736851     autosport   \n",
       "38737  558919241        tennis   \n",
       "38738  776944963    volleyball   \n",
       "38739  577334983        hockey   \n",
       "\n",
       "                                                    text  \n",
       "0      Волшебные фото Виктория Поплавская ЕвгенияМедв...  \n",
       "1      Возвращение в подземелье Треша 33 Эйфория тупо...  \n",
       "2      Лучшие чешские вратари – Доминик Доминатор Гаш...  \n",
       "3      Rtokenoid Warhammer40k валрак решил нас подкор...  \n",
       "4      Шестеркин затаскивает Рейнджерс в финал Восточ...  \n",
       "...                                                  ...  \n",
       "38735  8 битная буря снова накрыла пикселями автомоби...  \n",
       "38736  Ира Сидоркова объясняет как сказалась на ее ма...  \n",
       "38737  24 я ракетка мира хорват Марин Чилич обыграл и...  \n",
       "38738  Стал известен календарь мужской сборной России...  \n",
       "38739  Первенство ВХЛ. Первый этап Динамо Алтай Бн ЦС...  \n",
       "\n",
       "[38740 rows x 3 columns]"
      ]
     },
     "execution_count": 116,
     "metadata": {},
     "output_type": "execute_result"
    }
   ],
   "source": [
    "train"
   ]
  },
  {
   "cell_type": "markdown",
   "id": "c43a1fcb",
   "metadata": {},
   "source": [
    "## предобработка"
   ]
  },
  {
   "cell_type": "code",
   "execution_count": 117,
   "id": "e4554081",
   "metadata": {},
   "outputs": [
    {
     "name": "stderr",
     "output_type": "stream",
     "text": [
      "[nltk_data] Downloading package stopwords to /Users/max/nltk_data...\n",
      "[nltk_data]   Package stopwords is already up-to-date!\n"
     ]
    },
    {
     "data": {
      "text/plain": [
       "True"
      ]
     },
     "execution_count": 117,
     "metadata": {},
     "output_type": "execute_result"
    }
   ],
   "source": [
    "import re\n",
    "import numpy as np\n",
    "from nltk.corpus import stopwords\n",
    "from tqdm.notebook import tqdm\n",
    "from multiprocessing import Pool\n",
    "from pymystem3 import Mystem\n",
    "import nltk\n",
    "nltk.download('stopwords')"
   ]
  },
  {
   "cell_type": "code",
   "execution_count": 118,
   "id": "70c6af6f",
   "metadata": {},
   "outputs": [],
   "source": [
    "import pymorphy2\n",
    "morph = pymorphy2.MorphAnalyzer()"
   ]
  },
  {
   "cell_type": "code",
   "execution_count": 119,
   "id": "5131bf50",
   "metadata": {},
   "outputs": [],
   "source": [
    "words_regex = re.compile('\\w+')\n",
    "\n",
    "def find_words(text, regex = words_regex):\n",
    "    tokens =  regex.findall(text.lower())\n",
    "    return [w for w in tokens if w.isalpha() and len(w) >= 3]\n",
    "\n",
    "\n",
    "stopwords_list = stopwords.words('russian')\n",
    "\n",
    "# mystem = Mystem()\n",
    "# def lemmatize(words, lemmer = mystem, stopwords = stopwords_list):\n",
    "#     lemmas = lemmer.lemmatize(' '.join(words))\n",
    "#     return [w for w in lemmas if not w in stopwords \n",
    "#             and w.isalpha()]\n",
    "\n",
    "def lemmatize(words, lemmer = morph, stopwords = stopwords_list):\n",
    "    lemmas = [lemmer.parse(w)[0].normal_form for w in words]\n",
    "    return [w for w in lemmas if not w in stopwords \n",
    "            and w.isalpha()]\n",
    "\n",
    "def preprocess(text):\n",
    "    return (lemmatize(find_words(text)))"
   ]
  },
  {
   "cell_type": "code",
   "execution_count": 120,
   "id": "7ad863ea",
   "metadata": {},
   "outputs": [
    {
     "data": {
      "text/plain": [
       "'Возвращение в подземелье Треша 33 Эйфория тупости и жадности зашкаливает 33 В этот раз мы посетим Ростовскую область. Всю. И знаете это пока что единственный выпуск в котором не будет. . . А впрочем сами все увидите 33 Ссылка на видео в источнике'"
      ]
     },
     "execution_count": 120,
     "metadata": {},
     "output_type": "execute_result"
    }
   ],
   "source": [
    "train.text.iloc[1]"
   ]
  },
  {
   "cell_type": "code",
   "execution_count": 121,
   "id": "8d01a66a",
   "metadata": {},
   "outputs": [
    {
     "name": "stdout",
     "output_type": "stream",
     "text": [
      "['возвращение', 'подземелье', 'треш', 'эйфория', 'тупость', 'жадность', 'зашкаливать', 'посетить', 'ростовский', 'область', 'весь', 'знать', 'это', 'пока', 'единственный', 'выпуск', 'который', 'всё', 'увидеть', 'ссылка', 'видео', 'источник']\n"
     ]
    }
   ],
   "source": [
    "print(preprocess(train.text.iloc[1]))"
   ]
  },
  {
   "cell_type": "code",
   "execution_count": 598,
   "id": "0feb1410",
   "metadata": {},
   "outputs": [
    {
     "data": {
      "text/plain": [
       "autosport       3160\n",
       "extreme         3110\n",
       "martial_arts    3050\n",
       "motosport       3030\n",
       "boardgames      3020\n",
       "tennis          3000\n",
       "esport          2990\n",
       "athletics       2970\n",
       "hockey          2950\n",
       "volleyball      2950\n",
       "football        2860\n",
       "basketball      2850\n",
       "winter_sport    2800\n",
       "Name: category, dtype: int64"
      ]
     },
     "execution_count": 598,
     "metadata": {},
     "output_type": "execute_result"
    }
   ],
   "source": [
    "train.category.value_counts()"
   ]
  },
  {
   "cell_type": "code",
   "execution_count": 462,
   "id": "4efffbd3",
   "metadata": {},
   "outputs": [],
   "source": []
  },
  {
   "cell_type": "code",
   "execution_count": 599,
   "id": "e379d86d",
   "metadata": {},
   "outputs": [
    {
     "data": {
      "application/vnd.jupyter.widget-view+json": {
       "model_id": "0f376068b110441cb05547b662a5bcec",
       "version_major": 2,
       "version_minor": 0
      },
      "text/plain": [
       "  0%|          | 0/38740 [00:00<?, ?it/s]"
      ]
     },
     "metadata": {},
     "output_type": "display_data"
    }
   ],
   "source": [
    "preprocessed_text = list(tqdm(map(preprocess, train['text']), total=len(train)))"
   ]
  },
  {
   "cell_type": "code",
   "execution_count": 156,
   "id": "c313b454",
   "metadata": {},
   "outputs": [
    {
     "data": {
      "application/vnd.jupyter.widget-view+json": {
       "model_id": "c20aabce041d4010876787e982f710a2",
       "version_major": 2,
       "version_minor": 0
      },
      "text/plain": [
       "  0%|          | 0/26260 [00:00<?, ?it/s]"
      ]
     },
     "metadata": {},
     "output_type": "display_data"
    }
   ],
   "source": [
    "preprocessed_text_test = list(tqdm(map(preprocess, test['text']), total=len(test)))"
   ]
  },
  {
   "cell_type": "code",
   "execution_count": 603,
   "id": "da868c42",
   "metadata": {
    "scrolled": true
   },
   "outputs": [
    {
     "data": {
      "text/html": [
       "<div>\n",
       "<style scoped>\n",
       "    .dataframe tbody tr th:only-of-type {\n",
       "        vertical-align: middle;\n",
       "    }\n",
       "\n",
       "    .dataframe tbody tr th {\n",
       "        vertical-align: top;\n",
       "    }\n",
       "\n",
       "    .dataframe thead th {\n",
       "        text-align: right;\n",
       "    }\n",
       "</style>\n",
       "<table border=\"1\" class=\"dataframe\">\n",
       "  <thead>\n",
       "    <tr style=\"text-align: right;\">\n",
       "      <th></th>\n",
       "      <th>oid</th>\n",
       "      <th>category</th>\n",
       "      <th>text</th>\n",
       "    </tr>\n",
       "  </thead>\n",
       "  <tbody>\n",
       "    <tr>\n",
       "      <th>19814</th>\n",
       "      <td>679447598</td>\n",
       "      <td>winter_sport</td>\n",
       "      <td>[слуцкий, эмоция, трусов, увидеть, олимпиада, ...</td>\n",
       "    </tr>\n",
       "    <tr>\n",
       "      <th>32272</th>\n",
       "      <td>58456467</td>\n",
       "      <td>basketball</td>\n",
       "      <td>[сайт, tokentokenoid, платный, подписка, добав...</td>\n",
       "    </tr>\n",
       "    <tr>\n",
       "      <th>12648</th>\n",
       "      <td>866431267</td>\n",
       "      <td>winter_sport</td>\n",
       "      <td>[очень, хотеться, валиев, допустить, соревнова...</td>\n",
       "    </tr>\n",
       "  </tbody>\n",
       "</table>\n",
       "</div>"
      ],
      "text/plain": [
       "             oid      category  \\\n",
       "19814  679447598  winter_sport   \n",
       "32272   58456467    basketball   \n",
       "12648  866431267  winter_sport   \n",
       "\n",
       "                                                    text  \n",
       "19814  [слуцкий, эмоция, трусов, увидеть, олимпиада, ...  \n",
       "32272  [сайт, tokentokenoid, платный, подписка, добав...  \n",
       "12648  [очень, хотеться, валиев, допустить, соревнова...  "
      ]
     },
     "execution_count": 603,
     "metadata": {},
     "output_type": "execute_result"
    }
   ],
   "source": [
    "train['text'] = preprocessed_text\n",
    "train.sample(3)"
   ]
  },
  {
   "cell_type": "code",
   "execution_count": 244,
   "id": "c72b599b",
   "metadata": {},
   "outputs": [],
   "source": [
    "test['text'] = preprocessed_text_test"
   ]
  },
  {
   "cell_type": "code",
   "execution_count": 126,
   "id": "802bb1a0",
   "metadata": {},
   "outputs": [],
   "source": [
    "from gensim.models import Word2Vec, FastText"
   ]
  },
  {
   "cell_type": "code",
   "execution_count": 604,
   "id": "b8407e1d",
   "metadata": {},
   "outputs": [],
   "source": [
    "modelW2V = Word2Vec(sentences=train['text'], vector_size=300, window=5, min_count=3)\n",
    "# modelFT = FastText(sentences=train['text'], vector_size=300, min_count=3, window=5, workers=8)"
   ]
  },
  {
   "cell_type": "code",
   "execution_count": 32,
   "id": "0d396990",
   "metadata": {},
   "outputs": [
    {
     "name": "stdout",
     "output_type": "stream",
     "text": [
      "CPU times: user 1.98 ms, sys: 2.69 ms, total: 4.67 ms\n",
      "Wall time: 6.15 ms\n"
     ]
    },
    {
     "data": {
      "text/plain": [
       "True"
      ]
     },
     "execution_count": 32,
     "metadata": {},
     "output_type": "execute_result"
    }
   ],
   "source": [
    "# %%time\n",
    "# w2v_index = annoy.AnnoyIndex(300 ,'angular')\n",
    "# ft_index = annoy.AnnoyIndex(300 ,'angular')\n",
    "\n",
    "# index_map = {}\n",
    "# counter = 0\n",
    "\n",
    "\n",
    "# for sent in train:\n",
    "#     n_w2v = 0\n",
    "#     n_ft = 0\n",
    "#     index_map[counter] = sent\n",
    "#     vector_w2v = np.zeros(300)\n",
    "#     vector_ft = np.zeros(300)\n",
    "#     for word in sent:\n",
    "#         if word in modelW2V.wv:\n",
    "#             vector_w2v += modelW2V.wv[word]\n",
    "#             n_w2v += 1\n",
    "#         if word in modelFT.wv:\n",
    "#             vector_ft += modelFT.wv[word]\n",
    "#             n_ft += 1\n",
    "#     if n_w2v > 0:\n",
    "#         vector_w2v = vector_w2v / n_w2v\n",
    "#     if n_ft > 0:\n",
    "#         vector_ft = vector_ft / n_ft\n",
    "#     w2v_index.add_item(counter, vector_w2v)\n",
    "#     ft_index.add_item(counter, vector_ft)\n",
    "\n",
    "#     counter += 1\n",
    "\n",
    "# w2v_index.build(10)\n",
    "# ft_index.build(10)"
   ]
  },
  {
   "cell_type": "code",
   "execution_count": 605,
   "id": "65799f54",
   "metadata": {},
   "outputs": [],
   "source": [
    "def get_vector(sent, model):\n",
    "    vector = np.zeros(300)\n",
    "    norm = 0\n",
    "    for word in sent:\n",
    "        if word in model.wv:\n",
    "            vector += model.wv[word]\n",
    "            norm += 1\n",
    "    if norm > 0:\n",
    "        vector = vector / norm\n",
    "    return vector"
   ]
  },
  {
   "cell_type": "code",
   "execution_count": 606,
   "id": "6d30d0d6",
   "metadata": {},
   "outputs": [],
   "source": [
    "w2v_lst = train['text'].apply(lambda x: get_vector(x, modelW2V))"
   ]
  },
  {
   "cell_type": "code",
   "execution_count": 133,
   "id": "a99551a3",
   "metadata": {},
   "outputs": [],
   "source": [
    "# ftt_lst = train['text'].apply(lambda x: get_vector(x, modelFT))"
   ]
  },
  {
   "cell_type": "code",
   "execution_count": null,
   "id": "60aec419",
   "metadata": {},
   "outputs": [],
   "source": []
  },
  {
   "cell_type": "code",
   "execution_count": 247,
   "id": "5ebbf5f4",
   "metadata": {},
   "outputs": [],
   "source": [
    "w2v_lst_test = test['text'].apply(lambda x: get_vector(x, modelW2V))"
   ]
  },
  {
   "cell_type": "code",
   "execution_count": 607,
   "id": "3610ab1e",
   "metadata": {},
   "outputs": [],
   "source": [
    "w_lst = []\n",
    "for i in range(len(w2v_lst)):\n",
    "    w_lst.append(list(np.array(w2v_lst)[i]))"
   ]
  },
  {
   "cell_type": "code",
   "execution_count": 248,
   "id": "32c20e0f",
   "metadata": {},
   "outputs": [],
   "source": [
    "w_lst_test = []\n",
    "for i in range(len(w2v_lst_test)):\n",
    "    w_lst_test.append(list(np.array(w2v_lst_test)[i]))"
   ]
  },
  {
   "cell_type": "code",
   "execution_count": null,
   "id": "f942c364",
   "metadata": {},
   "outputs": [],
   "source": []
  },
  {
   "cell_type": "code",
   "execution_count": 173,
   "id": "7ca28f73",
   "metadata": {},
   "outputs": [],
   "source": [
    "# f_lst = []\n",
    "# for i in range(len(ftt_lst)):\n",
    "#     f_lst.append(list(np.array(ftt_lst)[i]))"
   ]
  },
  {
   "cell_type": "code",
   "execution_count": 608,
   "id": "12b9a74b",
   "metadata": {},
   "outputs": [],
   "source": [
    "classes = {\n",
    "    0: -1,\n",
    "    'athletics': 0,\n",
    "    'autosport': 1,\n",
    "    'basketball': 2,\n",
    "    'boardgames': 3,\n",
    "    'extreme': 4,\n",
    "    'football': 5,\n",
    "    'hockey': 6,\n",
    "    'martial_arts': 7,\n",
    "    'motosport': 8,\n",
    "    'tennis': 9,\n",
    "    'volleyball': 10,\n",
    "    'winter_sport': 11\n",
    "}"
   ]
  },
  {
   "cell_type": "code",
   "execution_count": 609,
   "id": "44b5a54f",
   "metadata": {},
   "outputs": [],
   "source": [
    "train_w2v = pd.DataFrame(w_lst)\n",
    "# train_ftt = pd.DataFrame(f_lst)"
   ]
  },
  {
   "cell_type": "code",
   "execution_count": 558,
   "id": "20c3d840",
   "metadata": {},
   "outputs": [],
   "source": [
    "test_w2v = pd.DataFrame(w_lst_test)\n"
   ]
  },
  {
   "cell_type": "code",
   "execution_count": 610,
   "id": "c4a5d163",
   "metadata": {},
   "outputs": [
    {
     "data": {
      "text/plain": [
       "(38740, 300)"
      ]
     },
     "execution_count": 610,
     "metadata": {},
     "output_type": "execute_result"
    }
   ],
   "source": [
    "train_w2v.shape"
   ]
  },
  {
   "cell_type": "code",
   "execution_count": 611,
   "id": "6579f214",
   "metadata": {},
   "outputs": [],
   "source": [
    "train_w2v['category'] = train['category']\n",
    "# train_ftt['category'] = train['category']"
   ]
  },
  {
   "cell_type": "code",
   "execution_count": 612,
   "id": "792f6e4c",
   "metadata": {},
   "outputs": [],
   "source": [
    "train_w2v_min = train_w2v.loc[train_w2v['category'] != 'esport']"
   ]
  },
  {
   "cell_type": "code",
   "execution_count": 615,
   "id": "a0a501d2",
   "metadata": {},
   "outputs": [
    {
     "data": {
      "text/plain": [
       "(35750, 301)"
      ]
     },
     "execution_count": 615,
     "metadata": {},
     "output_type": "execute_result"
    }
   ],
   "source": [
    "train_w2v_min.shape"
   ]
  },
  {
   "cell_type": "code",
   "execution_count": 332,
   "id": "a2b375bd",
   "metadata": {},
   "outputs": [],
   "source": [
    "test_w2v['oid'] = test['oid']"
   ]
  },
  {
   "cell_type": "code",
   "execution_count": 180,
   "id": "e596bdce",
   "metadata": {},
   "outputs": [],
   "source": [
    "for i in classes.keys():\n",
    "    train_w2v.loc[train_w2v['category']==i, 'category'] = classes[i]\n",
    "    "
   ]
  },
  {
   "cell_type": "code",
   "execution_count": 614,
   "id": "0064e0bb",
   "metadata": {},
   "outputs": [],
   "source": [
    "for i in classes.keys():\n",
    "    train_w2v_min.loc[train_w2v_min['category']==i, 'category'] = classes[i]\n"
   ]
  },
  {
   "cell_type": "code",
   "execution_count": 616,
   "id": "858479cc",
   "metadata": {},
   "outputs": [
    {
     "data": {
      "text/plain": [
       "array([11, 4, 5, 3, 6, 0, 8, 2, 9, 1, 7, 10], dtype=object)"
      ]
     },
     "execution_count": 616,
     "metadata": {},
     "output_type": "execute_result"
    }
   ],
   "source": [
    "pd.unique(train_w2v_min['category'])"
   ]
  },
  {
   "cell_type": "code",
   "execution_count": 588,
   "id": "1f17e3db",
   "metadata": {},
   "outputs": [],
   "source": [
    "# for i in classes.keys():\n",
    "#     train_ftt.loc[train_ftt['category']==i, 'category'] = classes[i]"
   ]
  },
  {
   "cell_type": "code",
   "execution_count": 617,
   "id": "c6b11fa9",
   "metadata": {},
   "outputs": [],
   "source": [
    "X = train_w2v_min.drop(columns='category')\n",
    "y = train_w2v_min['category']\n",
    "X_train, X_test, y_train, y_test = train_test_split(X, y, random_state=20)"
   ]
  },
  {
   "cell_type": "code",
   "execution_count": 645,
   "id": "9116111c",
   "metadata": {},
   "outputs": [
    {
     "data": {
      "text/html": [
       "<div>\n",
       "<style scoped>\n",
       "    .dataframe tbody tr th:only-of-type {\n",
       "        vertical-align: middle;\n",
       "    }\n",
       "\n",
       "    .dataframe tbody tr th {\n",
       "        vertical-align: top;\n",
       "    }\n",
       "\n",
       "    .dataframe thead th {\n",
       "        text-align: right;\n",
       "    }\n",
       "</style>\n",
       "<table border=\"1\" class=\"dataframe\">\n",
       "  <thead>\n",
       "    <tr style=\"text-align: right;\">\n",
       "      <th></th>\n",
       "      <th>0</th>\n",
       "      <th>1</th>\n",
       "      <th>2</th>\n",
       "      <th>3</th>\n",
       "      <th>4</th>\n",
       "      <th>5</th>\n",
       "      <th>6</th>\n",
       "      <th>7</th>\n",
       "      <th>8</th>\n",
       "      <th>9</th>\n",
       "      <th>...</th>\n",
       "      <th>290</th>\n",
       "      <th>291</th>\n",
       "      <th>292</th>\n",
       "      <th>293</th>\n",
       "      <th>294</th>\n",
       "      <th>295</th>\n",
       "      <th>296</th>\n",
       "      <th>297</th>\n",
       "      <th>298</th>\n",
       "      <th>299</th>\n",
       "    </tr>\n",
       "  </thead>\n",
       "  <tbody>\n",
       "    <tr>\n",
       "      <th>0</th>\n",
       "      <td>-0.301024</td>\n",
       "      <td>0.021623</td>\n",
       "      <td>0.249025</td>\n",
       "      <td>-0.206230</td>\n",
       "      <td>-0.214803</td>\n",
       "      <td>-0.254629</td>\n",
       "      <td>0.796195</td>\n",
       "      <td>0.432808</td>\n",
       "      <td>0.177280</td>\n",
       "      <td>-0.165865</td>\n",
       "      <td>...</td>\n",
       "      <td>0.354328</td>\n",
       "      <td>0.090016</td>\n",
       "      <td>0.215216</td>\n",
       "      <td>-0.207424</td>\n",
       "      <td>-0.230553</td>\n",
       "      <td>-0.164203</td>\n",
       "      <td>-0.022586</td>\n",
       "      <td>-0.044179</td>\n",
       "      <td>0.373197</td>\n",
       "      <td>0.254151</td>\n",
       "    </tr>\n",
       "    <tr>\n",
       "      <th>1</th>\n",
       "      <td>0.021163</td>\n",
       "      <td>0.025198</td>\n",
       "      <td>0.178981</td>\n",
       "      <td>0.108735</td>\n",
       "      <td>0.139897</td>\n",
       "      <td>-0.062942</td>\n",
       "      <td>-0.126535</td>\n",
       "      <td>0.470258</td>\n",
       "      <td>0.177759</td>\n",
       "      <td>0.011005</td>\n",
       "      <td>...</td>\n",
       "      <td>-0.032219</td>\n",
       "      <td>0.158603</td>\n",
       "      <td>0.213771</td>\n",
       "      <td>0.310990</td>\n",
       "      <td>0.515446</td>\n",
       "      <td>0.299836</td>\n",
       "      <td>-0.079033</td>\n",
       "      <td>-0.064240</td>\n",
       "      <td>0.183142</td>\n",
       "      <td>-0.046618</td>\n",
       "    </tr>\n",
       "    <tr>\n",
       "      <th>2</th>\n",
       "      <td>0.040905</td>\n",
       "      <td>0.166485</td>\n",
       "      <td>0.021429</td>\n",
       "      <td>0.064506</td>\n",
       "      <td>0.009870</td>\n",
       "      <td>-0.173128</td>\n",
       "      <td>-0.098547</td>\n",
       "      <td>0.630060</td>\n",
       "      <td>0.092194</td>\n",
       "      <td>0.008872</td>\n",
       "      <td>...</td>\n",
       "      <td>0.023663</td>\n",
       "      <td>0.103020</td>\n",
       "      <td>0.224853</td>\n",
       "      <td>0.214985</td>\n",
       "      <td>0.450492</td>\n",
       "      <td>0.464360</td>\n",
       "      <td>-0.025736</td>\n",
       "      <td>-0.260059</td>\n",
       "      <td>0.132263</td>\n",
       "      <td>-0.359151</td>\n",
       "    </tr>\n",
       "    <tr>\n",
       "      <th>3</th>\n",
       "      <td>0.007688</td>\n",
       "      <td>0.075425</td>\n",
       "      <td>0.197671</td>\n",
       "      <td>0.338271</td>\n",
       "      <td>0.163249</td>\n",
       "      <td>-0.110499</td>\n",
       "      <td>0.086123</td>\n",
       "      <td>0.409598</td>\n",
       "      <td>0.226518</td>\n",
       "      <td>0.108192</td>\n",
       "      <td>...</td>\n",
       "      <td>-0.058390</td>\n",
       "      <td>0.145729</td>\n",
       "      <td>0.148410</td>\n",
       "      <td>0.021355</td>\n",
       "      <td>0.254888</td>\n",
       "      <td>0.204228</td>\n",
       "      <td>-0.208476</td>\n",
       "      <td>-0.043212</td>\n",
       "      <td>0.203342</td>\n",
       "      <td>0.035738</td>\n",
       "    </tr>\n",
       "    <tr>\n",
       "      <th>4</th>\n",
       "      <td>0.036132</td>\n",
       "      <td>0.133871</td>\n",
       "      <td>0.010075</td>\n",
       "      <td>-0.056599</td>\n",
       "      <td>-0.033589</td>\n",
       "      <td>-0.104970</td>\n",
       "      <td>-0.018969</td>\n",
       "      <td>0.712543</td>\n",
       "      <td>0.199854</td>\n",
       "      <td>-0.021556</td>\n",
       "      <td>...</td>\n",
       "      <td>0.284608</td>\n",
       "      <td>0.059379</td>\n",
       "      <td>0.207499</td>\n",
       "      <td>0.186348</td>\n",
       "      <td>0.268998</td>\n",
       "      <td>0.366692</td>\n",
       "      <td>0.031245</td>\n",
       "      <td>-0.099991</td>\n",
       "      <td>0.203589</td>\n",
       "      <td>-0.395702</td>\n",
       "    </tr>\n",
       "    <tr>\n",
       "      <th>...</th>\n",
       "      <td>...</td>\n",
       "      <td>...</td>\n",
       "      <td>...</td>\n",
       "      <td>...</td>\n",
       "      <td>...</td>\n",
       "      <td>...</td>\n",
       "      <td>...</td>\n",
       "      <td>...</td>\n",
       "      <td>...</td>\n",
       "      <td>...</td>\n",
       "      <td>...</td>\n",
       "      <td>...</td>\n",
       "      <td>...</td>\n",
       "      <td>...</td>\n",
       "      <td>...</td>\n",
       "      <td>...</td>\n",
       "      <td>...</td>\n",
       "      <td>...</td>\n",
       "      <td>...</td>\n",
       "      <td>...</td>\n",
       "      <td>...</td>\n",
       "    </tr>\n",
       "    <tr>\n",
       "      <th>38735</th>\n",
       "      <td>0.002409</td>\n",
       "      <td>0.145437</td>\n",
       "      <td>0.008523</td>\n",
       "      <td>0.149028</td>\n",
       "      <td>0.066334</td>\n",
       "      <td>-0.115968</td>\n",
       "      <td>-0.132636</td>\n",
       "      <td>0.454721</td>\n",
       "      <td>0.133341</td>\n",
       "      <td>-0.048314</td>\n",
       "      <td>...</td>\n",
       "      <td>-0.130298</td>\n",
       "      <td>0.243696</td>\n",
       "      <td>0.274931</td>\n",
       "      <td>0.280852</td>\n",
       "      <td>0.554414</td>\n",
       "      <td>0.293370</td>\n",
       "      <td>-0.043810</td>\n",
       "      <td>-0.182421</td>\n",
       "      <td>0.114808</td>\n",
       "      <td>-0.202851</td>\n",
       "    </tr>\n",
       "    <tr>\n",
       "      <th>38736</th>\n",
       "      <td>0.147472</td>\n",
       "      <td>0.317703</td>\n",
       "      <td>-0.315193</td>\n",
       "      <td>-0.184259</td>\n",
       "      <td>-0.030265</td>\n",
       "      <td>-0.312730</td>\n",
       "      <td>-0.021322</td>\n",
       "      <td>0.592946</td>\n",
       "      <td>0.068569</td>\n",
       "      <td>-0.260362</td>\n",
       "      <td>...</td>\n",
       "      <td>0.018894</td>\n",
       "      <td>0.347562</td>\n",
       "      <td>0.352691</td>\n",
       "      <td>0.297544</td>\n",
       "      <td>0.525008</td>\n",
       "      <td>0.584124</td>\n",
       "      <td>-0.020625</td>\n",
       "      <td>0.003995</td>\n",
       "      <td>0.007346</td>\n",
       "      <td>-0.540119</td>\n",
       "    </tr>\n",
       "    <tr>\n",
       "      <th>38737</th>\n",
       "      <td>0.050912</td>\n",
       "      <td>0.446290</td>\n",
       "      <td>-0.146800</td>\n",
       "      <td>-0.037136</td>\n",
       "      <td>-0.015129</td>\n",
       "      <td>-0.398997</td>\n",
       "      <td>0.187198</td>\n",
       "      <td>0.791379</td>\n",
       "      <td>0.020784</td>\n",
       "      <td>-0.477984</td>\n",
       "      <td>...</td>\n",
       "      <td>0.165569</td>\n",
       "      <td>0.248366</td>\n",
       "      <td>0.186140</td>\n",
       "      <td>-0.321866</td>\n",
       "      <td>-0.122842</td>\n",
       "      <td>0.357923</td>\n",
       "      <td>0.069378</td>\n",
       "      <td>-0.065721</td>\n",
       "      <td>0.496530</td>\n",
       "      <td>-0.518595</td>\n",
       "    </tr>\n",
       "    <tr>\n",
       "      <th>38738</th>\n",
       "      <td>-0.350177</td>\n",
       "      <td>0.234302</td>\n",
       "      <td>-0.192607</td>\n",
       "      <td>-0.501729</td>\n",
       "      <td>-0.695365</td>\n",
       "      <td>-0.157569</td>\n",
       "      <td>-0.143657</td>\n",
       "      <td>0.933690</td>\n",
       "      <td>0.631427</td>\n",
       "      <td>-0.520937</td>\n",
       "      <td>...</td>\n",
       "      <td>0.302884</td>\n",
       "      <td>0.065593</td>\n",
       "      <td>0.380396</td>\n",
       "      <td>-0.035699</td>\n",
       "      <td>0.549061</td>\n",
       "      <td>0.104659</td>\n",
       "      <td>0.047098</td>\n",
       "      <td>-0.091604</td>\n",
       "      <td>0.449231</td>\n",
       "      <td>-0.518577</td>\n",
       "    </tr>\n",
       "    <tr>\n",
       "      <th>38739</th>\n",
       "      <td>-0.092601</td>\n",
       "      <td>0.122158</td>\n",
       "      <td>-0.355376</td>\n",
       "      <td>-0.447112</td>\n",
       "      <td>-0.295722</td>\n",
       "      <td>-0.232854</td>\n",
       "      <td>0.205849</td>\n",
       "      <td>0.703491</td>\n",
       "      <td>0.519160</td>\n",
       "      <td>-0.151475</td>\n",
       "      <td>...</td>\n",
       "      <td>0.362579</td>\n",
       "      <td>0.162541</td>\n",
       "      <td>0.132344</td>\n",
       "      <td>-0.103443</td>\n",
       "      <td>0.087895</td>\n",
       "      <td>-0.057857</td>\n",
       "      <td>0.227973</td>\n",
       "      <td>0.139998</td>\n",
       "      <td>0.207090</td>\n",
       "      <td>-0.382331</td>\n",
       "    </tr>\n",
       "  </tbody>\n",
       "</table>\n",
       "<p>35750 rows × 300 columns</p>\n",
       "</div>"
      ],
      "text/plain": [
       "            0         1         2         3         4         5         6    \\\n",
       "0     -0.301024  0.021623  0.249025 -0.206230 -0.214803 -0.254629  0.796195   \n",
       "1      0.021163  0.025198  0.178981  0.108735  0.139897 -0.062942 -0.126535   \n",
       "2      0.040905  0.166485  0.021429  0.064506  0.009870 -0.173128 -0.098547   \n",
       "3      0.007688  0.075425  0.197671  0.338271  0.163249 -0.110499  0.086123   \n",
       "4      0.036132  0.133871  0.010075 -0.056599 -0.033589 -0.104970 -0.018969   \n",
       "...         ...       ...       ...       ...       ...       ...       ...   \n",
       "38735  0.002409  0.145437  0.008523  0.149028  0.066334 -0.115968 -0.132636   \n",
       "38736  0.147472  0.317703 -0.315193 -0.184259 -0.030265 -0.312730 -0.021322   \n",
       "38737  0.050912  0.446290 -0.146800 -0.037136 -0.015129 -0.398997  0.187198   \n",
       "38738 -0.350177  0.234302 -0.192607 -0.501729 -0.695365 -0.157569 -0.143657   \n",
       "38739 -0.092601  0.122158 -0.355376 -0.447112 -0.295722 -0.232854  0.205849   \n",
       "\n",
       "            7         8         9    ...       290       291       292  \\\n",
       "0      0.432808  0.177280 -0.165865  ...  0.354328  0.090016  0.215216   \n",
       "1      0.470258  0.177759  0.011005  ... -0.032219  0.158603  0.213771   \n",
       "2      0.630060  0.092194  0.008872  ...  0.023663  0.103020  0.224853   \n",
       "3      0.409598  0.226518  0.108192  ... -0.058390  0.145729  0.148410   \n",
       "4      0.712543  0.199854 -0.021556  ...  0.284608  0.059379  0.207499   \n",
       "...         ...       ...       ...  ...       ...       ...       ...   \n",
       "38735  0.454721  0.133341 -0.048314  ... -0.130298  0.243696  0.274931   \n",
       "38736  0.592946  0.068569 -0.260362  ...  0.018894  0.347562  0.352691   \n",
       "38737  0.791379  0.020784 -0.477984  ...  0.165569  0.248366  0.186140   \n",
       "38738  0.933690  0.631427 -0.520937  ...  0.302884  0.065593  0.380396   \n",
       "38739  0.703491  0.519160 -0.151475  ...  0.362579  0.162541  0.132344   \n",
       "\n",
       "            293       294       295       296       297       298       299  \n",
       "0     -0.207424 -0.230553 -0.164203 -0.022586 -0.044179  0.373197  0.254151  \n",
       "1      0.310990  0.515446  0.299836 -0.079033 -0.064240  0.183142 -0.046618  \n",
       "2      0.214985  0.450492  0.464360 -0.025736 -0.260059  0.132263 -0.359151  \n",
       "3      0.021355  0.254888  0.204228 -0.208476 -0.043212  0.203342  0.035738  \n",
       "4      0.186348  0.268998  0.366692  0.031245 -0.099991  0.203589 -0.395702  \n",
       "...         ...       ...       ...       ...       ...       ...       ...  \n",
       "38735  0.280852  0.554414  0.293370 -0.043810 -0.182421  0.114808 -0.202851  \n",
       "38736  0.297544  0.525008  0.584124 -0.020625  0.003995  0.007346 -0.540119  \n",
       "38737 -0.321866 -0.122842  0.357923  0.069378 -0.065721  0.496530 -0.518595  \n",
       "38738 -0.035699  0.549061  0.104659  0.047098 -0.091604  0.449231 -0.518577  \n",
       "38739 -0.103443  0.087895 -0.057857  0.227973  0.139998  0.207090 -0.382331  \n",
       "\n",
       "[35750 rows x 300 columns]"
      ]
     },
     "execution_count": 645,
     "metadata": {},
     "output_type": "execute_result"
    }
   ],
   "source": [
    "X"
   ]
  },
  {
   "cell_type": "code",
   "execution_count": 619,
   "id": "5d9c25b4",
   "metadata": {},
   "outputs": [],
   "source": [
    "from sklearn.model_selection import train_test_split\n",
    "from sklearn.naive_bayes import BernoulliNB\n",
    "from sklearn.linear_model import LogisticRegression\n",
    "from catboost import CatBoostClassifier\n",
    "from sklearn.metrics import accuracy_score"
   ]
  },
  {
   "cell_type": "code",
   "execution_count": 620,
   "id": "c712c65b",
   "metadata": {},
   "outputs": [
    {
     "name": "stderr",
     "output_type": "stream",
     "text": [
      "/Users/max/opt/anaconda3/lib/python3.9/site-packages/sklearn/linear_model/_logistic.py:814: ConvergenceWarning: lbfgs failed to converge (status=1):\n",
      "STOP: TOTAL NO. of ITERATIONS REACHED LIMIT.\n",
      "\n",
      "Increase the number of iterations (max_iter) or scale the data as shown in:\n",
      "    https://scikit-learn.org/stable/modules/preprocessing.html\n",
      "Please also refer to the documentation for alternative solver options:\n",
      "    https://scikit-learn.org/stable/modules/linear_model.html#logistic-regression\n",
      "  n_iter_i = _check_optimize_result(\n"
     ]
    },
    {
     "data": {
      "text/plain": [
       "LogisticRegression()"
      ]
     },
     "execution_count": 620,
     "metadata": {},
     "output_type": "execute_result"
    }
   ],
   "source": [
    "clf = LogisticRegression()\n",
    "clf.fit(X_train, list(y_train))"
   ]
  },
  {
   "cell_type": "code",
   "execution_count": 722,
   "id": "a70c1261",
   "metadata": {},
   "outputs": [],
   "source": [
    "def treshold_pred(lst, t=.5):\n",
    "    if np.sum((lst > t).astype(int)):\n",
    "        return list(lst > t).index(1)\n",
    "    else:\n",
    "        return -1"
   ]
  },
  {
   "cell_type": "code",
   "execution_count": 476,
   "id": "01dcd965",
   "metadata": {},
   "outputs": [],
   "source": [
    "# Gaus\n",
    "# w2v train 0.462 \n",
    "# w2v test 0.463\n",
    "\n",
    "# ftt train 0.455\n",
    "# ftt test 0.463\n",
    "\n",
    "# bernuli на сотые\n",
    "\n",
    "# logistic reg\n",
    "# 0.625\n",
    "\n",
    "# catboost \n",
    "# 0.9 train\n",
    "# 0.694 test"
   ]
  },
  {
   "cell_type": "code",
   "execution_count": 659,
   "id": "a2206110",
   "metadata": {},
   "outputs": [
    {
     "data": {
      "text/plain": [
       "0.6886328037592303"
      ]
     },
     "execution_count": 659,
     "metadata": {},
     "output_type": "execute_result"
    }
   ],
   "source": [
    "from sklearn.metrics import accuracy_score\n",
    "accuracy_score(y_test.astype(int), clf.predict(X_test).astype(int))"
   ]
  },
  {
   "cell_type": "code",
   "execution_count": 701,
   "id": "3de35c99",
   "metadata": {},
   "outputs": [],
   "source": [
    "preds = pd.DataFrame(clf.predict(X))"
   ]
  },
  {
   "cell_type": "code",
   "execution_count": 656,
   "id": "94353a65",
   "metadata": {},
   "outputs": [],
   "source": [
    "# #prediction with threshold\n",
    "# preds = []\n",
    "# for prob_lst in clf.predict_proba(X):\n",
    "#     preds.append(treshold_pred(prob_lst, .4))"
   ]
  },
  {
   "cell_type": "code",
   "execution_count": 864,
   "id": "20cc6a7d",
   "metadata": {},
   "outputs": [],
   "source": [
    "#prediction with threshold on X\n",
    "X_preds = []\n",
    "for prob_lst in clf.predict_proba(X):\n",
    "    X_preds.append(treshold_pred(prob_lst, .36))"
   ]
  },
  {
   "cell_type": "code",
   "execution_count": 865,
   "id": "d6387518",
   "metadata": {},
   "outputs": [],
   "source": [
    "X_preds = pd.DataFrame(X_preds)"
   ]
  },
  {
   "cell_type": "code",
   "execution_count": 866,
   "id": "1a43cda0",
   "metadata": {},
   "outputs": [],
   "source": [
    "# X.reset_index().drop(columns='index')"
   ]
  },
  {
   "cell_type": "code",
   "execution_count": 867,
   "id": "3f26c424",
   "metadata": {},
   "outputs": [],
   "source": [
    "idx = X_preds.loc[X_preds[0] >= 0].index\n",
    "idx2 = X_preds.loc[X_preds[0] < 0].index"
   ]
  },
  {
   "cell_type": "code",
   "execution_count": 868,
   "id": "1d20eb36",
   "metadata": {},
   "outputs": [
    {
     "data": {
      "text/plain": [
       "0.4309172971258144"
      ]
     },
     "execution_count": 868,
     "metadata": {},
     "output_type": "execute_result"
    }
   ],
   "source": [
    "accuracy_score(np.array(y.reset_index()['category'].iloc[idx]).astype(int), X_preds.loc[X_preds[0] >= 0]) -\\\n",
    "accuracy_score(np.array(y.reset_index()['category'].iloc[idx2]).astype(int), preds.iloc[idx2])"
   ]
  },
  {
   "cell_type": "code",
   "execution_count": 807,
   "id": "234021c8",
   "metadata": {},
   "outputs": [
    {
     "data": {
      "text/plain": [
       "0.437"
      ]
     },
     "execution_count": 807,
     "metadata": {},
     "output_type": "execute_result"
    }
   ],
   "source": [
    "0.437"
   ]
  },
  {
   "cell_type": "code",
   "execution_count": 653,
   "id": "002d7fe3",
   "metadata": {},
   "outputs": [],
   "source": [
    "# pd.unique(pd.DataFrame(clf.predict(test_w2v.drop(columns='oid')))[0])"
   ]
  },
  {
   "cell_type": "code",
   "execution_count": 655,
   "id": "3c38e4c2",
   "metadata": {},
   "outputs": [
    {
     "data": {
      "text/plain": [
       "4     4204\n",
       "3     3264\n",
       "11    3096\n",
       "9     2966\n",
       "1     2952\n",
       "8     2934\n",
       "6     2862\n",
       "0     2822\n",
       "7     2726\n",
       "5     2717\n",
       "2     2606\n",
       "10    2601\n",
       "dtype: int64"
      ]
     },
     "execution_count": 655,
     "metadata": {},
     "output_type": "execute_result"
    }
   ],
   "source": [
    "pd.Series(clf.predict(X)).value_counts()"
   ]
  },
  {
   "cell_type": "code",
   "execution_count": null,
   "id": "08c0439a",
   "metadata": {},
   "outputs": [],
   "source": []
  },
  {
   "cell_type": "code",
   "execution_count": null,
   "id": "fe2e94ea",
   "metadata": {},
   "outputs": [],
   "source": []
  },
  {
   "cell_type": "code",
   "execution_count": 515,
   "id": "d209ca9a",
   "metadata": {
    "scrolled": true
   },
   "outputs": [
    {
     "data": {
      "text/plain": [
       "array([1, 2, 3, 4, 6, 7, 8, 9, 10, 11, 12, 13], dtype=object)"
      ]
     },
     "execution_count": 515,
     "metadata": {},
     "output_type": "execute_result"
    }
   ],
   "source": [
    "np.unique(np.array(train_w2v_min['category']))"
   ]
  },
  {
   "cell_type": "code",
   "execution_count": 529,
   "id": "d3eefcf5",
   "metadata": {},
   "outputs": [
    {
     "data": {
      "text/plain": [
       "array([ 1,  2,  3,  4,  6,  7,  8,  9, 10, 11, 12, 13])"
      ]
     },
     "execution_count": 529,
     "metadata": {},
     "output_type": "execute_result"
    }
   ],
   "source": [
    "np.unique(clf.predict(X))"
   ]
  },
  {
   "cell_type": "code",
   "execution_count": null,
   "id": "61261203",
   "metadata": {},
   "outputs": [],
   "source": [
    "classes = {\n",
    "    0: -1,\n",
    "    'athletics': 0,\n",
    "    'autosport': 1,\n",
    "    'basketball': 2,\n",
    "    'boardgames': 3,\n",
    "    'extreme': 4,\n",
    "    'football': 5,\n",
    "    'hockey': 6,\n",
    "    'martial_arts': 7,\n",
    "    'motosport': 8,\n",
    "    'tennis': 9,\n",
    "    'volleyball': 10,\n",
    "    'winter_sport': 11\n",
    "}"
   ]
  },
  {
   "cell_type": "code",
   "execution_count": 651,
   "id": "beecdba5",
   "metadata": {
    "scrolled": true
   },
   "outputs": [
    {
     "name": "stdout",
     "output_type": "stream",
     "text": [
      "oid                                                 146016084\n",
      "category                                             football\n",
      "text        [хороший, чешский, вратарь, доминик, доминатор...\n",
      "Name: 2, dtype: object\n",
      "5\n",
      "5\n"
     ]
    },
    {
     "data": {
      "text/plain": [
       "[0.001816318169761543,\n",
       " 0.007304361056118438,\n",
       " 0.07929002443974172,\n",
       " 0.01020882506927374,\n",
       " 0.00981242999427972,\n",
       " 0.5341527564234991,\n",
       " 0.19175641299571375,\n",
       " 0.04451733066006902,\n",
       " 0.005091270980528336,\n",
       " 0.020149613274559774,\n",
       " 0.08984342599272135,\n",
       " 0.00605723094373346]"
      ]
     },
     "execution_count": 651,
     "metadata": {},
     "output_type": "execute_result"
    }
   ],
   "source": [
    "i = 2\n",
    "print(train.loc[train['category']!='esport'].iloc[i, :])\n",
    "print(clf.predict(X)[i])\n",
    "print(preds[i])\n",
    "list(clf.predict_proba(X)[i])\n",
    "\n",
    "# train.loc[train['category'] == 'extreme'].iloc[i,:]['text']"
   ]
  },
  {
   "cell_type": "code",
   "execution_count": null,
   "id": "2a845395",
   "metadata": {},
   "outputs": [],
   "source": []
  },
  {
   "cell_type": "code",
   "execution_count": null,
   "id": "bb3eb141",
   "metadata": {},
   "outputs": [],
   "source": []
  },
  {
   "cell_type": "code",
   "execution_count": null,
   "id": "58bf6eb2",
   "metadata": {},
   "outputs": [],
   "source": []
  },
  {
   "cell_type": "code",
   "execution_count": null,
   "id": "2b40214f",
   "metadata": {},
   "outputs": [],
   "source": []
  },
  {
   "cell_type": "code",
   "execution_count": null,
   "id": "a86b70b0",
   "metadata": {},
   "outputs": [],
   "source": []
  },
  {
   "cell_type": "code",
   "execution_count": 500,
   "id": "176b0bac",
   "metadata": {},
   "outputs": [
    {
     "name": "stderr",
     "output_type": "stream",
     "text": [
      "/var/folders/n3/rc0k_vzs5ln66jll2sd1t7wh0000gn/T/ipykernel_59481/1406815035.py:5: SettingWithCopyWarning: \n",
      "A value is trying to be set on a copy of a slice from a DataFrame.\n",
      "Try using .loc[row_indexer,col_indexer] = value instead\n",
      "\n",
      "See the caveats in the documentation: https://pandas.pydata.org/pandas-docs/stable/user_guide/indexing.html#returning-a-view-versus-a-copy\n",
      "  answer_df['category'] = preds\n",
      "/var/folders/n3/rc0k_vzs5ln66jll2sd1t7wh0000gn/T/ipykernel_59481/1406815035.py:11: SettingWithCopyWarning: \n",
      "A value is trying to be set on a copy of a slice from a DataFrame.\n",
      "Try using .loc[row_indexer,col_indexer] = value instead\n",
      "\n",
      "See the caveats in the documentation: https://pandas.pydata.org/pandas-docs/stable/user_guide/indexing.html#returning-a-view-versus-a-copy\n",
      "  answer_df.loc[answer_df['category']==i, 'category'] = key_list[position]\n"
     ]
    },
    {
     "data": {
      "text/html": [
       "<div>\n",
       "<style scoped>\n",
       "    .dataframe tbody tr th:only-of-type {\n",
       "        vertical-align: middle;\n",
       "    }\n",
       "\n",
       "    .dataframe tbody tr th {\n",
       "        vertical-align: top;\n",
       "    }\n",
       "\n",
       "    .dataframe thead th {\n",
       "        text-align: right;\n",
       "    }\n",
       "</style>\n",
       "<table border=\"1\" class=\"dataframe\">\n",
       "  <thead>\n",
       "    <tr style=\"text-align: right;\">\n",
       "      <th></th>\n",
       "      <th>oid</th>\n",
       "      <th>category</th>\n",
       "    </tr>\n",
       "  </thead>\n",
       "  <tbody>\n",
       "    <tr>\n",
       "      <th>0</th>\n",
       "      <td>749208109</td>\n",
       "      <td>basketball</td>\n",
       "    </tr>\n",
       "    <tr>\n",
       "      <th>1</th>\n",
       "      <td>452466036</td>\n",
       "      <td>martial_arts</td>\n",
       "    </tr>\n",
       "    <tr>\n",
       "      <th>2</th>\n",
       "      <td>161038103</td>\n",
       "      <td>tennis</td>\n",
       "    </tr>\n",
       "    <tr>\n",
       "      <th>3</th>\n",
       "      <td>663621910</td>\n",
       "      <td>boardgames</td>\n",
       "    </tr>\n",
       "    <tr>\n",
       "      <th>4</th>\n",
       "      <td>566255305</td>\n",
       "      <td>tennis</td>\n",
       "    </tr>\n",
       "    <tr>\n",
       "      <th>...</th>\n",
       "      <td>...</td>\n",
       "      <td>...</td>\n",
       "    </tr>\n",
       "    <tr>\n",
       "      <th>26255</th>\n",
       "      <td>169728316</td>\n",
       "      <td>boardgames</td>\n",
       "    </tr>\n",
       "    <tr>\n",
       "      <th>26256</th>\n",
       "      <td>279369911</td>\n",
       "      <td>volleyball</td>\n",
       "    </tr>\n",
       "    <tr>\n",
       "      <th>26257</th>\n",
       "      <td>600699419</td>\n",
       "      <td>boardgames</td>\n",
       "    </tr>\n",
       "    <tr>\n",
       "      <th>26258</th>\n",
       "      <td>560223506</td>\n",
       "      <td>martial_arts</td>\n",
       "    </tr>\n",
       "    <tr>\n",
       "      <th>26259</th>\n",
       "      <td>724673712</td>\n",
       "      <td>athletics</td>\n",
       "    </tr>\n",
       "  </tbody>\n",
       "</table>\n",
       "<p>26260 rows × 2 columns</p>\n",
       "</div>"
      ],
      "text/plain": [
       "             oid      category\n",
       "0      749208109    basketball\n",
       "1      452466036  martial_arts\n",
       "2      161038103        tennis\n",
       "3      663621910    boardgames\n",
       "4      566255305        tennis\n",
       "...          ...           ...\n",
       "26255  169728316    boardgames\n",
       "26256  279369911    volleyball\n",
       "26257  600699419    boardgames\n",
       "26258  560223506  martial_arts\n",
       "26259  724673712     athletics\n",
       "\n",
       "[26260 rows x 2 columns]"
      ]
     },
     "execution_count": 500,
     "metadata": {},
     "output_type": "execute_result"
    }
   ],
   "source": [
    "# answer dataset\n",
    "preds = clf.predict(test_w2v.drop(columns='oid'))\n",
    "answer_df = test_w2v[['oid']]\n",
    "\n",
    "answer_df['category'] = preds\n",
    "\n",
    "key_list = list(classes.keys())\n",
    "val_list = list(classes.values())\n",
    "for i in range(1, 14):\n",
    "    position = val_list.index(i)\n",
    "    answer_df.loc[answer_df['category']==i, 'category'] = key_list[position]\n",
    "\n",
    "answer_df"
   ]
  },
  {
   "cell_type": "code",
   "execution_count": 501,
   "id": "d93a02c1",
   "metadata": {},
   "outputs": [],
   "source": [
    "answer_df.to_csv('100_for_vk.csv', index=False)"
   ]
  },
  {
   "cell_type": "code",
   "execution_count": null,
   "id": "85e81388",
   "metadata": {},
   "outputs": [],
   "source": []
  }
 ],
 "metadata": {
  "kernelspec": {
   "display_name": "Python 3 (ipykernel)",
   "language": "python",
   "name": "python3"
  },
  "language_info": {
   "codemirror_mode": {
    "name": "ipython",
    "version": 3
   },
   "file_extension": ".py",
   "mimetype": "text/x-python",
   "name": "python",
   "nbconvert_exporter": "python",
   "pygments_lexer": "ipython3",
   "version": "3.9.12"
  }
 },
 "nbformat": 4,
 "nbformat_minor": 5
}
